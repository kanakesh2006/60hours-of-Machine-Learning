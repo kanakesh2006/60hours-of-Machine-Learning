{
  "cells": [
    {
      "cell_type": "markdown",
      "metadata": {
        "id": "view-in-github",
        "colab_type": "text"
      },
      "source": [
        "<a href=\"https://colab.research.google.com/github/kanakesh2006/60hours-of-Machine-Learning-Part-1/blob/main/2.4.%20List_Tuple_Set_Dictionary.ipynb\" target=\"_parent\"><img src=\"https://colab.research.google.com/assets/colab-badge.svg\" alt=\"Open In Colab\"/></a>"
      ]
    },
    {
      "cell_type": "markdown",
      "metadata": {
        "id": "u0ypvm4sgo1J"
      },
      "source": [
        "## Types of Objects in Python\n",
        "  1. Immutable Objects\n",
        "  1. Mutable Objects"
      ]
    },
    {
      "cell_type": "markdown",
      "metadata": {
        "id": "OPqCiVC-hYCv"
      },
      "source": [
        "### Immutable objects\n",
        "- int\n",
        "- float\n",
        "- string\n",
        "- bool\n",
        "- tuple"
      ]
    },
    {
      "cell_type": "markdown",
      "source": [
        "#### Tuple -> ( )"
      ],
      "metadata": {
        "id": "ZjdwbOseMpnu"
      }
    },
    {
      "cell_type": "code",
      "execution_count": null,
      "metadata": {
        "id": "ol17XeXNiZQm",
        "colab": {
          "base_uri": "https://localhost:8080/"
        },
        "outputId": "cbfeba78-123d-42ea-c091-0c58b8b0bfed"
      },
      "outputs": [
        {
          "output_type": "stream",
          "name": "stdout",
          "text": [
            "(1, 2, 3, 4, 5)\n"
          ]
        }
      ],
      "source": [
        "tup_1 = (1,2,3,4,5)\n",
        "print(tup_1)"
      ]
    },
    {
      "cell_type": "code",
      "source": [
        "# multiple data types\n",
        "multiple_tup = (2, 4.18, \"hello\", True)\n",
        "print(multiple_tup)"
      ],
      "metadata": {
        "colab": {
          "base_uri": "https://localhost:8080/"
        },
        "id": "-d0hYvtGNHmi",
        "outputId": "1260c93e-7f9c-4d3b-deb2-f7284d806276"
      },
      "execution_count": null,
      "outputs": [
        {
          "output_type": "stream",
          "name": "stdout",
          "text": [
            "(2, 4.18, 'hello', True)\n"
          ]
        }
      ]
    },
    {
      "cell_type": "code",
      "source": [
        "# converting a list to tuple\n",
        "list = [9,8,7,6,5]\n",
        "tuple = tuple(list)\n",
        "print(tuple)"
      ],
      "metadata": {
        "colab": {
          "base_uri": "https://localhost:8080/"
        },
        "id": "NnfXaIR3NT6w",
        "outputId": "0f6aaa40-aa8d-45aa-9241-7c83cb9241cf"
      },
      "execution_count": null,
      "outputs": [
        {
          "output_type": "stream",
          "name": "stdout",
          "text": [
            "(9, 8, 7, 6, 5)\n"
          ]
        }
      ]
    },
    {
      "cell_type": "code",
      "source": [
        "# indexing\n",
        "print(tup_1[0])\n",
        "print(tup_1[1])\n",
        "print(tup_1[2])"
      ],
      "metadata": {
        "colab": {
          "base_uri": "https://localhost:8080/"
        },
        "id": "-rE7uZR2O096",
        "outputId": "393f0361-335b-4bca-8156-5989ddbd737b"
      },
      "execution_count": null,
      "outputs": [
        {
          "output_type": "stream",
          "name": "stdout",
          "text": [
            "1\n",
            "2\n",
            "3\n"
          ]
        }
      ]
    },
    {
      "cell_type": "code",
      "source": [
        "# immutable (unchangeable)\n",
        "tup_1.append(6)"
      ],
      "metadata": {
        "colab": {
          "base_uri": "https://localhost:8080/",
          "height": 159
        },
        "id": "lq5ylRa_Q8cs",
        "outputId": "ee421de7-ed03-4318-d7bf-f78a652736f0"
      },
      "execution_count": null,
      "outputs": [
        {
          "output_type": "error",
          "ename": "AttributeError",
          "evalue": "'tuple' object has no attribute 'append'",
          "traceback": [
            "\u001b[0;31m---------------------------------------------------------------------------\u001b[0m",
            "\u001b[0;31mAttributeError\u001b[0m                            Traceback (most recent call last)",
            "\u001b[0;32m<ipython-input-6-c07a8e2bd9dd>\u001b[0m in \u001b[0;36m<cell line: 0>\u001b[0;34m()\u001b[0m\n\u001b[1;32m      1\u001b[0m \u001b[0;31m# immutable (unchangeable)\u001b[0m\u001b[0;34m\u001b[0m\u001b[0;34m\u001b[0m\u001b[0m\n\u001b[0;32m----> 2\u001b[0;31m \u001b[0mtup_1\u001b[0m\u001b[0;34m.\u001b[0m\u001b[0mappend\u001b[0m\u001b[0;34m(\u001b[0m\u001b[0;36m6\u001b[0m\u001b[0;34m)\u001b[0m\u001b[0;34m\u001b[0m\u001b[0;34m\u001b[0m\u001b[0m\n\u001b[0m",
            "\u001b[0;31mAttributeError\u001b[0m: 'tuple' object has no attribute 'append'"
          ]
        }
      ]
    },
    {
      "cell_type": "code",
      "source": [
        "# no.of elements\n",
        "print(len(tup_1))"
      ],
      "metadata": {
        "colab": {
          "base_uri": "https://localhost:8080/"
        },
        "id": "TGmK4miaRQQ7",
        "outputId": "8d5b2852-fb8e-4d37-f0d5-7b9acb255691"
      },
      "execution_count": null,
      "outputs": [
        {
          "output_type": "stream",
          "name": "stdout",
          "text": [
            "5\n"
          ]
        }
      ]
    },
    {
      "cell_type": "markdown",
      "metadata": {
        "id": "zsJjrVfohTnO"
      },
      "source": [
        "### Mutable objects\n",
        "- List\n",
        "- Set\n",
        "- Dictionary"
      ]
    },
    {
      "cell_type": "markdown",
      "metadata": {
        "id": "s25PnjFRjD8m"
      },
      "source": [
        "#### List -> [ ]"
      ]
    },
    {
      "cell_type": "code",
      "execution_count": null,
      "metadata": {
        "colab": {
          "base_uri": "https://localhost:8080/"
        },
        "id": "9ejgBSH5fJ3R",
        "outputId": "62f45063-ae85-46a8-cabe-635c26533ef8"
      },
      "outputs": [
        {
          "name": "stdout",
          "output_type": "stream",
          "text": [
            "[1, 2, 3, 4, 5]\n"
          ]
        },
        {
          "data": {
            "text/plain": [
              "list"
            ]
          },
          "execution_count": 1,
          "metadata": {},
          "output_type": "execute_result"
        }
      ],
      "source": [
        "my_list = [1,2,3,4,5]\n",
        "print(my_list)\n",
        "type(my_list)"
      ]
    },
    {
      "cell_type": "code",
      "execution_count": null,
      "metadata": {
        "colab": {
          "base_uri": "https://localhost:8080/"
        },
        "id": "aEJiosMtji26",
        "outputId": "d86396bf-aea1-4a9d-e395-7bdc5669aab3"
      },
      "outputs": [
        {
          "name": "stdout",
          "output_type": "stream",
          "text": [
            "[2, 4.18, 'hello', True]\n"
          ]
        }
      ],
      "source": [
        "# multipile data types\n",
        "multiple_list = [2, 4.18, \"hello\", True]\n",
        "print(multiple_list)"
      ]
    },
    {
      "cell_type": "code",
      "execution_count": null,
      "metadata": {
        "colab": {
          "base_uri": "https://localhost:8080/"
        },
        "id": "-RfYb6YCj7Ob",
        "outputId": "e1fefaa2-9665-40da-dcf4-af5416094671"
      },
      "outputs": [
        {
          "name": "stdout",
          "output_type": "stream",
          "text": [
            "[1, 2, 3, 4, 5, 6]\n"
          ]
        }
      ],
      "source": [
        "# list are mutable(changeable)\n",
        "my_list.append(6)\n",
        "print(my_list)"
      ]
    },
    {
      "cell_type": "code",
      "execution_count": null,
      "metadata": {
        "colab": {
          "base_uri": "https://localhost:8080/"
        },
        "id": "OYzW5WOqk2GD",
        "outputId": "fa6574f8-6b37-4ece-c79d-60b516b1d4a4"
      },
      "outputs": [
        {
          "name": "stdout",
          "output_type": "stream",
          "text": [
            "1\n",
            "2\n",
            "3\n"
          ]
        }
      ],
      "source": [
        "# indexing\n",
        "print(my_list[0])\n",
        "print(my_list[1])\n",
        "print(my_list[2])"
      ]
    },
    {
      "cell_type": "code",
      "execution_count": null,
      "metadata": {
        "colab": {
          "base_uri": "https://localhost:8080/"
        },
        "id": "k0gIGIwykr3Z",
        "outputId": "65e221b1-d274-43f7-d033-c9fbde3253c8"
      },
      "outputs": [
        {
          "name": "stdout",
          "output_type": "stream",
          "text": [
            "[1, 2, 3, 4, 5, 6, 6, 6]\n"
          ]
        }
      ],
      "source": [
        "# allows duplicates\n",
        "my_list.append(6)\n",
        "print(my_list)"
      ]
    },
    {
      "cell_type": "code",
      "execution_count": null,
      "metadata": {
        "colab": {
          "base_uri": "https://localhost:8080/"
        },
        "id": "JjUOgDUWlMwp",
        "outputId": "1d70d436-b03e-48c1-a0ed-e54d207ff2e1"
      },
      "outputs": [
        {
          "name": "stdout",
          "output_type": "stream",
          "text": [
            "8\n"
          ]
        }
      ],
      "source": [
        "# length of list (no.of elements)\n",
        "print(len(my_list))"
      ]
    },
    {
      "cell_type": "code",
      "execution_count": null,
      "metadata": {
        "colab": {
          "background_save": true
        },
        "id": "tS387gSMlkmT",
        "outputId": "ce438fb5-15f1-4829-e0cb-5916489cfa11"
      },
      "outputs": [
        {
          "name": "stdout",
          "output_type": "stream",
          "text": [
            "[1, 2, 3, 4, 5, 6, 6, 6]\n",
            "[1, 2, 3, 4, 5, 6, 6]\n",
            "[1, 2, 3, 4, 6, 6]\n",
            "[1, 2, 3, 4, 6]\n"
          ]
        }
      ],
      "source": [
        "# delete an item from list\n",
        "print(my_list)\n",
        "del my_list[6]\n",
        "print(my_list)\n",
        "my_list.remove(5)\n",
        "print(my_list)\n",
        "my_list.pop(4)\n",
        "print(my_list)"
      ]
    },
    {
      "cell_type": "markdown",
      "source": [
        "#### Set -> { }"
      ],
      "metadata": {
        "id": "hVz1A2qbR_Nm"
      }
    },
    {
      "cell_type": "code",
      "source": [
        "my_set = {1,2,3,4,5}\n",
        "print(my_set)\n",
        "type(my_set)"
      ],
      "metadata": {
        "id": "MeSWY9tcSLMy",
        "colab": {
          "base_uri": "https://localhost:8080/"
        },
        "outputId": "9db2b8fc-2593-461c-d854-bc82013de839"
      },
      "execution_count": 9,
      "outputs": [
        {
          "output_type": "stream",
          "name": "stdout",
          "text": [
            "{1, 2, 3, 4, 5}\n"
          ]
        },
        {
          "output_type": "execute_result",
          "data": {
            "text/plain": [
              "set"
            ]
          },
          "metadata": {},
          "execution_count": 9
        }
      ]
    },
    {
      "cell_type": "code",
      "source": [
        "# no indexing, not possible\n",
        "my_set[0]"
      ],
      "metadata": {
        "colab": {
          "base_uri": "https://localhost:8080/",
          "height": 159
        },
        "id": "q5s1cNfhl95i",
        "outputId": "f287e4e8-555f-48aa-f98c-c98dbc265a24"
      },
      "execution_count": 10,
      "outputs": [
        {
          "output_type": "error",
          "ename": "TypeError",
          "evalue": "'set' object is not subscriptable",
          "traceback": [
            "\u001b[0;31m---------------------------------------------------------------------------\u001b[0m",
            "\u001b[0;31mTypeError\u001b[0m                                 Traceback (most recent call last)",
            "\u001b[0;32m<ipython-input-10-d72c886e6348>\u001b[0m in \u001b[0;36m<cell line: 0>\u001b[0;34m()\u001b[0m\n\u001b[1;32m      1\u001b[0m \u001b[0;31m# no indexing, not possible\u001b[0m\u001b[0;34m\u001b[0m\u001b[0;34m\u001b[0m\u001b[0m\n\u001b[0;32m----> 2\u001b[0;31m \u001b[0mmy_set\u001b[0m\u001b[0;34m[\u001b[0m\u001b[0;36m0\u001b[0m\u001b[0;34m]\u001b[0m\u001b[0;34m\u001b[0m\u001b[0;34m\u001b[0m\u001b[0m\n\u001b[0m",
            "\u001b[0;31mTypeError\u001b[0m: 'set' object is not subscriptable"
          ]
        }
      ]
    },
    {
      "cell_type": "code",
      "source": [
        "# convert a list into set\n",
        "list1 = [1,2,3,4,5,5]\n",
        "set1 = set(list1)\n",
        "print(set1)"
      ],
      "metadata": {
        "colab": {
          "base_uri": "https://localhost:8080/"
        },
        "id": "VJFUGMBwmQnp",
        "outputId": "d4ca070c-dd48-4d86-8c96-86366998dbf3"
      },
      "execution_count": 1,
      "outputs": [
        {
          "output_type": "stream",
          "name": "stdout",
          "text": [
            "{1, 2, 3, 4, 5}\n"
          ]
        }
      ]
    },
    {
      "cell_type": "code",
      "source": [
        "set_2 = {1,2,2,3,3,4,5}"
      ],
      "metadata": {
        "id": "4Xt_ByBpmgew"
      },
      "execution_count": 2,
      "outputs": []
    },
    {
      "cell_type": "code",
      "source": [
        "print(set_2)"
      ],
      "metadata": {
        "colab": {
          "base_uri": "https://localhost:8080/"
        },
        "id": "so34hGA_dTih",
        "outputId": "3590f2bd-4baf-4474-fb7d-f4a0c0388b6c"
      },
      "execution_count": 3,
      "outputs": [
        {
          "output_type": "stream",
          "name": "stdout",
          "text": [
            "{1, 2, 3, 4, 5}\n"
          ]
        }
      ]
    },
    {
      "cell_type": "markdown",
      "source": [
        "#### Dictionary -> { *key* , *value* }"
      ],
      "metadata": {
        "id": "NKZyxTuideBh"
      }
    },
    {
      "cell_type": "code",
      "source": [
        "my_dict = {'name' : 'David', 'age' : 30, 'country' : 'India'}\n",
        "print(my_dict)\n",
        "type(my_dict)"
      ],
      "metadata": {
        "colab": {
          "base_uri": "https://localhost:8080/"
        },
        "id": "nSCMckKGdsFA",
        "outputId": "36c06d16-8b9a-40f1-e6d7-7ae9574b4a63"
      },
      "execution_count": 5,
      "outputs": [
        {
          "output_type": "stream",
          "name": "stdout",
          "text": [
            "{'name': 'David', 'age': 30, 'country': 'India'}\n"
          ]
        },
        {
          "output_type": "execute_result",
          "data": {
            "text/plain": [
              "dict"
            ]
          },
          "metadata": {},
          "execution_count": 5
        }
      ]
    },
    {
      "cell_type": "code",
      "source": [
        "print(my_dict['name'])\n",
        "print(my_dict['age'])\n",
        "print(my_dict['country'])"
      ],
      "metadata": {
        "colab": {
          "base_uri": "https://localhost:8080/"
        },
        "id": "X6PMcmj9e4dG",
        "outputId": "fdde5ffa-33cd-49a4-b1a0-f7b0c26da08a"
      },
      "execution_count": 6,
      "outputs": [
        {
          "output_type": "stream",
          "name": "stdout",
          "text": [
            "David\n",
            "30\n",
            "India\n"
          ]
        }
      ]
    },
    {
      "cell_type": "code",
      "source": [
        "# no duplicactes allowed\n",
        "my_dict2 = {'name' : 'David', 'age' : 30, 'age' : 15, 'country' : 'India'}\n",
        "print(my_dict2)\n",
        "type(my_dict2)"
      ],
      "metadata": {
        "colab": {
          "base_uri": "https://localhost:8080/"
        },
        "outputId": "8125e3b8-1916-4c55-b58f-26e2ba61ade4",
        "id": "9a4GrNwMg_99"
      },
      "execution_count": 10,
      "outputs": [
        {
          "output_type": "stream",
          "name": "stdout",
          "text": [
            "{'name': 'David', 'age': 15, 'country': 'India'}\n"
          ]
        },
        {
          "output_type": "execute_result",
          "data": {
            "text/plain": [
              "dict"
            ]
          },
          "metadata": {},
          "execution_count": 10
        }
      ]
    },
    {
      "cell_type": "code",
      "source": [],
      "metadata": {
        "id": "R1oJmUtqhZcB"
      },
      "execution_count": null,
      "outputs": []
    }
  ],
  "metadata": {
    "colab": {
      "provenance": [],
      "collapsed_sections": [
        "ZjdwbOseMpnu",
        "s25PnjFRjD8m"
      ],
      "authorship_tag": "ABX9TyPLEo6Xcaw4N38NT8jTQGiY",
      "include_colab_link": true
    },
    "kernelspec": {
      "display_name": "Python 3",
      "name": "python3"
    },
    "language_info": {
      "name": "python"
    }
  },
  "nbformat": 4,
  "nbformat_minor": 0
}