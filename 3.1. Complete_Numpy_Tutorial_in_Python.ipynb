{
  "nbformat": 4,
  "nbformat_minor": 0,
  "metadata": {
    "colab": {
      "provenance": [],
      "authorship_tag": "ABX9TyMajC7G47gqfsJylJRkgsku",
      "include_colab_link": true
    },
    "kernelspec": {
      "name": "python3",
      "display_name": "Python 3"
    },
    "language_info": {
      "name": "python"
    }
  },
  "cells": [
    {
      "cell_type": "markdown",
      "metadata": {
        "id": "view-in-github",
        "colab_type": "text"
      },
      "source": [
        "<a href=\"https://colab.research.google.com/github/kanakesh2006/60hours-of-Machine-Learning-Part-1/blob/main/3.1.%20Complete_Numpy_Tutorial_in_Python.ipynb\" target=\"_parent\"><img src=\"https://colab.research.google.com/assets/colab-badge.svg\" alt=\"Open In Colab\"/></a>"
      ]
    },
    {
      "cell_type": "markdown",
      "source": [
        "# Numpy - Numerical Python\n",
        "\n",
        "## Advantages of Numpy Arrays:\n",
        "1.    Allows several Mathematical Operations\n",
        "1.    Faster Operations"
      ],
      "metadata": {
        "id": "dc6gyNqRyWCh"
      }
    },
    {
      "cell_type": "code",
      "execution_count": 3,
      "metadata": {
        "id": "KEhubsubbGUt"
      },
      "outputs": [],
      "source": [
        "import numpy as np"
      ]
    },
    {
      "cell_type": "markdown",
      "source": [
        "### List vs Numpy - Time Taken"
      ],
      "metadata": {
        "id": "pLNq0iHg2stj"
      }
    },
    {
      "cell_type": "code",
      "source": [
        "from time import process_time"
      ],
      "metadata": {
        "id": "myXVWnIm2QyR"
      },
      "execution_count": 4,
      "outputs": []
    },
    {
      "cell_type": "markdown",
      "source": [
        "Time taken by List"
      ],
      "metadata": {
        "id": "HAkygrW43Qo2"
      }
    },
    {
      "cell_type": "code",
      "source": [
        "python_list = [i for i in range(10000)]\n",
        "\n",
        "start_time = process_time()\n",
        "\n",
        "python_list = [i+5 for i in python_list]\n",
        "\n",
        "end_time = process_time()\n",
        "\n",
        "print(end_time - start_time)"
      ],
      "metadata": {
        "colab": {
          "base_uri": "https://localhost:8080/"
        },
        "id": "r_dUaD153PDU",
        "outputId": "318f9bf4-313f-4425-a660-456ded62f6fe"
      },
      "execution_count": 5,
      "outputs": [
        {
          "output_type": "stream",
          "name": "stdout",
          "text": [
            "0.0010391740000006422\n"
          ]
        }
      ]
    },
    {
      "cell_type": "markdown",
      "source": [
        "Time taken by Numpy Array"
      ],
      "metadata": {
        "id": "rhrxhNeU8j_G"
      }
    },
    {
      "cell_type": "code",
      "source": [
        "np_array = np.array([i for i in range(10000)])\n",
        "\n",
        "start_time = process_time()\n",
        "\n",
        "np_array += 5\n",
        "\n",
        "end_time = process_time()\n",
        "\n",
        "print(end_time - start_time)"
      ],
      "metadata": {
        "colab": {
          "base_uri": "https://localhost:8080/"
        },
        "id": "IFtzZFp272S1",
        "outputId": "ffa3c619-70e3-47f4-95d6-33ace51635ad"
      },
      "execution_count": 6,
      "outputs": [
        {
          "output_type": "stream",
          "name": "stdout",
          "text": [
            "0.00018872600000019446\n"
          ]
        }
      ]
    },
    {
      "cell_type": "markdown",
      "source": [
        "### Numpy Arrays"
      ],
      "metadata": {
        "id": "pN0nC0jMC0Pd"
      }
    },
    {
      "cell_type": "code",
      "source": [
        "np_array = np.array([1,2,3,4,5])\n",
        "print(np_array)\n",
        "type(np_array)"
      ],
      "metadata": {
        "colab": {
          "base_uri": "https://localhost:8080/"
        },
        "id": "P8Y05PJZ9f62",
        "outputId": "dbaae419-0ea6-480d-dafe-34bb3483bfac"
      },
      "execution_count": 7,
      "outputs": [
        {
          "output_type": "stream",
          "name": "stdout",
          "text": [
            "[1 2 3 4 5]\n"
          ]
        },
        {
          "output_type": "execute_result",
          "data": {
            "text/plain": [
              "numpy.ndarray"
            ]
          },
          "metadata": {},
          "execution_count": 7
        }
      ]
    },
    {
      "cell_type": "code",
      "source": [
        "# 1D array\n",
        "a = np.array([1,2,3,4])\n",
        "print(a)\n",
        "print(a.shape)"
      ],
      "metadata": {
        "colab": {
          "base_uri": "https://localhost:8080/"
        },
        "id": "Awsqqg5qDRyv",
        "outputId": "3740d8e7-3be1-400d-f9b4-40523db59b13"
      },
      "execution_count": 8,
      "outputs": [
        {
          "output_type": "stream",
          "name": "stdout",
          "text": [
            "[1 2 3 4]\n",
            "(4,)\n"
          ]
        }
      ]
    },
    {
      "cell_type": "code",
      "source": [
        "# 2D array\n",
        "b = np.array([(1,2,3,4),(5,6,7,8)])\n",
        "print(b)\n",
        "print(b.shape)"
      ],
      "metadata": {
        "colab": {
          "base_uri": "https://localhost:8080/"
        },
        "id": "M1C8ygf9GmYU",
        "outputId": "66490f40-1c7b-49c7-e36b-01600a09b132"
      },
      "execution_count": 9,
      "outputs": [
        {
          "output_type": "stream",
          "name": "stdout",
          "text": [
            "[[1 2 3 4]\n",
            " [5 6 7 8]]\n",
            "(2, 4)\n"
          ]
        }
      ]
    },
    {
      "cell_type": "code",
      "source": [
        "# 3D array\n",
        "c = np.array()\n",
        "print(c)\n",
        "print(c.shape)"
      ],
      "metadata": {
        "colab": {
          "base_uri": "https://localhost:8080/",
          "height": 193
        },
        "id": "wi5Nk9-BHdRm",
        "outputId": "b599f06a-e65e-4244-e28e-575b91936446"
      },
      "execution_count": 10,
      "outputs": [
        {
          "output_type": "error",
          "ename": "TypeError",
          "evalue": "array() missing required argument 'object' (pos 0)",
          "traceback": [
            "\u001b[0;31m---------------------------------------------------------------------------\u001b[0m",
            "\u001b[0;31mTypeError\u001b[0m                                 Traceback (most recent call last)",
            "\u001b[0;32m<ipython-input-10-37a12c17f0c3>\u001b[0m in \u001b[0;36m<cell line: 0>\u001b[0;34m()\u001b[0m\n\u001b[1;32m      1\u001b[0m \u001b[0;31m# 3D array\u001b[0m\u001b[0;34m\u001b[0m\u001b[0;34m\u001b[0m\u001b[0m\n\u001b[0;32m----> 2\u001b[0;31m \u001b[0mc\u001b[0m \u001b[0;34m=\u001b[0m \u001b[0mnp\u001b[0m\u001b[0;34m.\u001b[0m\u001b[0marray\u001b[0m\u001b[0;34m(\u001b[0m\u001b[0;34m)\u001b[0m\u001b[0;34m\u001b[0m\u001b[0;34m\u001b[0m\u001b[0m\n\u001b[0m\u001b[1;32m      3\u001b[0m \u001b[0mprint\u001b[0m\u001b[0;34m(\u001b[0m\u001b[0mc\u001b[0m\u001b[0;34m)\u001b[0m\u001b[0;34m\u001b[0m\u001b[0;34m\u001b[0m\u001b[0m\n\u001b[1;32m      4\u001b[0m \u001b[0mprint\u001b[0m\u001b[0;34m(\u001b[0m\u001b[0mc\u001b[0m\u001b[0;34m.\u001b[0m\u001b[0mshape\u001b[0m\u001b[0;34m)\u001b[0m\u001b[0;34m\u001b[0m\u001b[0;34m\u001b[0m\u001b[0m\n",
            "\u001b[0;31mTypeError\u001b[0m: array() missing required argument 'object' (pos 0)"
          ]
        }
      ]
    },
    {
      "cell_type": "code",
      "source": [
        "d = np.array([(1,2,3,4),(3,4,5,6)], dtype=float)\n",
        "print(d)"
      ],
      "metadata": {
        "colab": {
          "base_uri": "https://localhost:8080/"
        },
        "id": "d6wyElxRJVe1",
        "outputId": "c1234755-0a4c-4f34-aae0-b0918953657c"
      },
      "execution_count": 12,
      "outputs": [
        {
          "output_type": "stream",
          "name": "stdout",
          "text": [
            "[[1. 2. 3. 4.]\n",
            " [3. 4. 5. 6.]]\n"
          ]
        }
      ]
    },
    {
      "cell_type": "markdown",
      "source": [
        "Initial placeholders in numpy arrays"
      ],
      "metadata": {
        "id": "UCZAGSURMgOl"
      }
    },
    {
      "cell_type": "code",
      "source": [
        "# numpy array of zeroes\n",
        "x = np.zeros((3,5))\n",
        "print(x)\n",
        "print(x.shape)"
      ],
      "metadata": {
        "colab": {
          "base_uri": "https://localhost:8080/"
        },
        "id": "OLx2BlatPdgG",
        "outputId": "3114b252-6704-4ec7-a119-d5d072d37a95"
      },
      "execution_count": 13,
      "outputs": [
        {
          "output_type": "stream",
          "name": "stdout",
          "text": [
            "[[0. 0. 0. 0. 0.]\n",
            " [0. 0. 0. 0. 0.]\n",
            " [0. 0. 0. 0. 0.]]\n",
            "(3, 5)\n"
          ]
        }
      ]
    },
    {
      "cell_type": "code",
      "source": [
        "# numpy array of ones\n",
        "y = np.ones((3,5))\n",
        "print(y)\n",
        "print(y.shape)"
      ],
      "metadata": {
        "colab": {
          "base_uri": "https://localhost:8080/"
        },
        "id": "9CMH1NwZPzwy",
        "outputId": "42dff69a-7ae6-413f-d2d9-d3a9425dc8fc"
      },
      "execution_count": 14,
      "outputs": [
        {
          "output_type": "stream",
          "name": "stdout",
          "text": [
            "[[1. 1. 1. 1. 1.]\n",
            " [1. 1. 1. 1. 1.]\n",
            " [1. 1. 1. 1. 1.]]\n",
            "(3, 5)\n"
          ]
        }
      ]
    },
    {
      "cell_type": "code",
      "source": [
        "# numpy array of specific number\n",
        "z = np.full((3,5), 93)\n",
        "print(z)\n",
        "print(z.shape)"
      ],
      "metadata": {
        "colab": {
          "base_uri": "https://localhost:8080/"
        },
        "id": "COFkNrTZRtE3",
        "outputId": "97173e74-5c9f-4ebc-fbed-a5ee86f197fe"
      },
      "execution_count": 15,
      "outputs": [
        {
          "output_type": "stream",
          "name": "stdout",
          "text": [
            "[[93 93 93 93 93]\n",
            " [93 93 93 93 93]\n",
            " [93 93 93 93 93]]\n",
            "(3, 5)\n"
          ]
        }
      ]
    },
    {
      "cell_type": "code",
      "source": [
        "# numpy array of identity matrix\n",
        "p = np.eye(4)\n",
        "print(p)\n",
        "print(p.shape)"
      ],
      "metadata": {
        "colab": {
          "base_uri": "https://localhost:8080/"
        },
        "id": "6c1VZp-1R6pa",
        "outputId": "554ea325-5978-45c2-fa87-3aa3e7df0aea"
      },
      "execution_count": 16,
      "outputs": [
        {
          "output_type": "stream",
          "name": "stdout",
          "text": [
            "[[1. 0. 0. 0.]\n",
            " [0. 1. 0. 0.]\n",
            " [0. 0. 1. 0.]\n",
            " [0. 0. 0. 1.]]\n",
            "(4, 4)\n"
          ]
        }
      ]
    },
    {
      "cell_type": "code",
      "source": [
        "# numpy array of random values\n",
        "l = np.random.random((3,5))\n",
        "print(l)\n",
        "print(l.shape)"
      ],
      "metadata": {
        "colab": {
          "base_uri": "https://localhost:8080/"
        },
        "id": "TOoHDFHPSxEK",
        "outputId": "2620c8df-b74a-49b6-8c27-5a8e4c82cae4"
      },
      "execution_count": 17,
      "outputs": [
        {
          "output_type": "stream",
          "name": "stdout",
          "text": [
            "[[0.27661701 0.12586337 0.27419476 0.11409266 0.46207895]\n",
            " [0.96740769 0.96401739 0.17856751 0.54651185 0.8278568 ]\n",
            " [0.65104284 0.09020187 0.92551569 0.85967052 0.36967591]]\n",
            "(3, 5)\n"
          ]
        }
      ]
    },
    {
      "cell_type": "code",
      "source": [
        "# numpy array of random integer values within a specific range\n",
        "m = np.random.randint(10,100, (3,5))\n",
        "print(m)\n",
        "print(m.shape)"
      ],
      "metadata": {
        "colab": {
          "base_uri": "https://localhost:8080/"
        },
        "id": "0ZTzoPlEqqYO",
        "outputId": "cce5d2b1-b64f-457d-b0d3-1dfa479dd10a"
      },
      "execution_count": 18,
      "outputs": [
        {
          "output_type": "stream",
          "name": "stdout",
          "text": [
            "[[95 47 63 88 60]\n",
            " [43 31 84 74 17]\n",
            " [18 84 44 53 88]]\n",
            "(3, 5)\n"
          ]
        }
      ]
    },
    {
      "cell_type": "code",
      "source": [
        "# numpy array of evenly spaced values with specific number of values\n",
        "n = np.linspace(10,30,2)\n",
        "print(n)\n",
        "print(n.shape)"
      ],
      "metadata": {
        "colab": {
          "base_uri": "https://localhost:8080/"
        },
        "id": "9XzgrbDzrKbk",
        "outputId": "8da135f9-2376-4ec9-af21-02b6b4c0b479"
      },
      "execution_count": 19,
      "outputs": [
        {
          "output_type": "stream",
          "name": "stdout",
          "text": [
            "[10. 30.]\n",
            "(2,)\n"
          ]
        }
      ]
    },
    {
      "cell_type": "code",
      "source": [
        "# numpy array of evenly spaced values with specific steps/intervals\n",
        "o = np.arange(10,30,2)\n",
        "print(o)\n",
        "print(o.shape)"
      ],
      "metadata": {
        "colab": {
          "base_uri": "https://localhost:8080/"
        },
        "id": "pVx3y4ytrwHz",
        "outputId": "60b77e17-a923-4e8e-f148-618f49179246"
      },
      "execution_count": 20,
      "outputs": [
        {
          "output_type": "stream",
          "name": "stdout",
          "text": [
            "[10 12 14 16 18 20 22 24 26 28]\n",
            "(10,)\n"
          ]
        }
      ]
    },
    {
      "cell_type": "code",
      "source": [
        "# convert a list to a numpy array\n",
        "array = [10,20,30,40,50]\n",
        "list2np = np.asarray(array)\n",
        "print(list2np)\n",
        "print(type(list2np))\n",
        "print(list2np.shape)"
      ],
      "metadata": {
        "colab": {
          "base_uri": "https://localhost:8080/"
        },
        "id": "UfYV06vMSezN",
        "outputId": "fe185fe1-9e86-4777-b24b-18cdb21e2673"
      },
      "execution_count": 25,
      "outputs": [
        {
          "output_type": "stream",
          "name": "stdout",
          "text": [
            "[10 20 30 40 50]\n",
            "<class 'numpy.ndarray'>\n",
            "(5,)\n"
          ]
        }
      ]
    },
    {
      "cell_type": "markdown",
      "source": [
        "Analysing a Numpy array"
      ],
      "metadata": {
        "id": "eTtoydb5gQBO"
      }
    },
    {
      "cell_type": "code",
      "source": [
        "arr = np.random.randint(10,90,(5,5))\n",
        "print(arr)"
      ],
      "metadata": {
        "colab": {
          "base_uri": "https://localhost:8080/"
        },
        "id": "gzjV2OsQUIlS",
        "outputId": "e62554cc-3d79-41cd-f89c-5deb00a63daa"
      },
      "execution_count": 26,
      "outputs": [
        {
          "output_type": "stream",
          "name": "stdout",
          "text": [
            "[[61 73 10 39 67]\n",
            " [26 36 40 27 12]\n",
            " [49 19 29 54 80]\n",
            " [29 53 38 15 16]\n",
            " [68 25 21 20 83]]\n"
          ]
        }
      ]
    },
    {
      "cell_type": "code",
      "source": [
        "# no of dimensions\n",
        "print(arr.ndim)"
      ],
      "metadata": {
        "colab": {
          "base_uri": "https://localhost:8080/"
        },
        "id": "tODHVQxMgtHG",
        "outputId": "80fdd872-c261-4d57-bb17-c74630655453"
      },
      "execution_count": 28,
      "outputs": [
        {
          "output_type": "stream",
          "name": "stdout",
          "text": [
            "2\n"
          ]
        }
      ]
    },
    {
      "cell_type": "code",
      "source": [
        "# what are the dimensions\n",
        "print(arr.shape)"
      ],
      "metadata": {
        "colab": {
          "base_uri": "https://localhost:8080/"
        },
        "id": "cr16X8LdhE5V",
        "outputId": "2b3bc439-5375-4f7d-8058-44950bb85213"
      },
      "execution_count": 29,
      "outputs": [
        {
          "output_type": "stream",
          "name": "stdout",
          "text": [
            "(5, 5)\n"
          ]
        }
      ]
    },
    {
      "cell_type": "code",
      "source": [
        "# no of elements\n",
        "print(arr.size)"
      ],
      "metadata": {
        "colab": {
          "base_uri": "https://localhost:8080/"
        },
        "id": "YIFI-SxKhavX",
        "outputId": "7d7036bc-3901-4148-dbd9-f9080b412c96"
      },
      "execution_count": 30,
      "outputs": [
        {
          "output_type": "stream",
          "name": "stdout",
          "text": [
            "25\n"
          ]
        }
      ]
    },
    {
      "cell_type": "code",
      "source": [
        "# data type of elements\n",
        "print(arr.dtype)"
      ],
      "metadata": {
        "colab": {
          "base_uri": "https://localhost:8080/"
        },
        "id": "szGY-L2whxXX",
        "outputId": "03f9ef78-099d-4c1b-b8f1-c0a033711dd9"
      },
      "execution_count": 31,
      "outputs": [
        {
          "output_type": "stream",
          "name": "stdout",
          "text": [
            "int64\n"
          ]
        }
      ]
    },
    {
      "cell_type": "markdown",
      "source": [
        "Mathematical Operations on Numpy Arrays"
      ],
      "metadata": {
        "id": "4BzNPziAiq8u"
      }
    },
    {
      "cell_type": "code",
      "source": [
        "list1 = [1,2,3,4,5]\n",
        "list2 = [6,7,8,9,0]\n",
        "print(list1 + list2) # Concatenation"
      ],
      "metadata": {
        "colab": {
          "base_uri": "https://localhost:8080/"
        },
        "id": "FUX9K7jvh5V_",
        "outputId": "2cfc0eac-4151-4c5a-82a4-d18021275fa6"
      },
      "execution_count": 33,
      "outputs": [
        {
          "output_type": "stream",
          "name": "stdout",
          "text": [
            "[1, 2, 3, 4, 5, 6, 7, 8, 9, 0]\n"
          ]
        }
      ]
    },
    {
      "cell_type": "code",
      "source": [
        "arr1 = np.random.randint(0,10,(3,3))\n",
        "arr2 = np.random.randint(10,20,(3,3))\n",
        "print(arr1)\n",
        "print(arr2)\n",
        "print(\"-----------------------------------\")\n",
        "print(arr1 + arr2) # element-wise addition\n",
        "print(arr1 - arr2)\n",
        "print(arr1 * arr2)\n",
        "print(arr1 / arr2)"
      ],
      "metadata": {
        "colab": {
          "base_uri": "https://localhost:8080/"
        },
        "id": "0dooUJG7jImc",
        "outputId": "63e08b1d-f3c0-4395-a48e-ef52fc7a629a"
      },
      "execution_count": 36,
      "outputs": [
        {
          "output_type": "stream",
          "name": "stdout",
          "text": [
            "[[0 6 3]\n",
            " [5 4 3]\n",
            " [6 8 0]]\n",
            "[[15 12 14]\n",
            " [11 12 17]\n",
            " [16 17 14]]\n",
            "-----------------------------------\n",
            "[[15 18 17]\n",
            " [16 16 20]\n",
            " [22 25 14]]\n",
            "[[-15  -6 -11]\n",
            " [ -6  -8 -14]\n",
            " [-10  -9 -14]]\n",
            "[[  0  72  42]\n",
            " [ 55  48  51]\n",
            " [ 96 136   0]]\n",
            "[[0.         0.5        0.21428571]\n",
            " [0.45454545 0.33333333 0.17647059]\n",
            " [0.375      0.47058824 0.        ]]\n"
          ]
        }
      ]
    },
    {
      "cell_type": "code",
      "source": [
        "print(np.add(arr1, arr2))\n",
        "print(np.subtract(arr1, arr2))\n",
        "print(np.multiply(arr1, arr2))\n",
        "print(np.divide(arr1, arr2))\n"
      ],
      "metadata": {
        "colab": {
          "base_uri": "https://localhost:8080/"
        },
        "id": "AOd356BkkK0u",
        "outputId": "11ee5799-0976-45f0-8dfa-a750a646684b"
      },
      "execution_count": 37,
      "outputs": [
        {
          "output_type": "stream",
          "name": "stdout",
          "text": [
            "[[15 18 17]\n",
            " [16 16 20]\n",
            " [22 25 14]]\n",
            "[[-15  -6 -11]\n",
            " [ -6  -8 -14]\n",
            " [-10  -9 -14]]\n",
            "[[  0  72  42]\n",
            " [ 55  48  51]\n",
            " [ 96 136   0]]\n",
            "[[0.         0.5        0.21428571]\n",
            " [0.45454545 0.33333333 0.17647059]\n",
            " [0.375      0.47058824 0.        ]]\n"
          ]
        }
      ]
    },
    {
      "cell_type": "markdown",
      "source": [
        "Array manipulation"
      ],
      "metadata": {
        "id": "jcilGfbmkv7f"
      }
    },
    {
      "cell_type": "code",
      "source": [
        "# Transpose\n",
        "array1 = np.random.randint(0,9,(2,3))\n",
        "\n",
        "trans1 = np.transpose(array1)\n",
        "print(trans1)\n",
        "print(trans1.shape)\n",
        "\n",
        "trans2 = array1.T\n",
        "print(trans2)\n",
        "print(trans2.shape)"
      ],
      "metadata": {
        "colab": {
          "base_uri": "https://localhost:8080/"
        },
        "id": "FrTY5IVUktES",
        "outputId": "32db9bbb-0951-451b-aa2a-aca30f1ba6d9"
      },
      "execution_count": 38,
      "outputs": [
        {
          "output_type": "stream",
          "name": "stdout",
          "text": [
            "[[2 6]\n",
            " [3 6]\n",
            " [7 3]]\n",
            "(3, 2)\n",
            "[[2 6]\n",
            " [3 6]\n",
            " [7 3]]\n",
            "(3, 2)\n"
          ]
        }
      ]
    },
    {
      "cell_type": "code",
      "source": [
        "# Reshape\n",
        "array2 = np.random.randint(10,20,(2,3))\n",
        "\n",
        "print(array2)\n",
        "print(array2.shape)\n",
        "\n",
        "print(array2.reshape(3,2))\n",
        "print(array2.shape)"
      ],
      "metadata": {
        "colab": {
          "base_uri": "https://localhost:8080/"
        },
        "id": "65KWQV-Nl0JG",
        "outputId": "7f379393-1b72-427d-feb5-de5f03443f08"
      },
      "execution_count": 41,
      "outputs": [
        {
          "output_type": "stream",
          "name": "stdout",
          "text": [
            "[[17 15 18]\n",
            " [15 19 14]]\n",
            "(2, 3)\n",
            "[[17 15]\n",
            " [18 15]\n",
            " [19 14]]\n",
            "(2, 3)\n"
          ]
        }
      ]
    }
  ]
}